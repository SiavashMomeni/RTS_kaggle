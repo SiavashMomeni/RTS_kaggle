# Kaggle Notebook for Real-Time Systems Project

# 1. Setup environment
!pip install -q -r /kaggle/working/real-time-scheduling-project/kaggle/requirements.txt
!sudo apt-get install -y fonts-noto ttf-mscorefonts-installer
!fc-cache -fv

# 2. Import libraries
import os
import sys
import pandas as pd
import matplotlib.pyplot as plt
from src.experiments import run_batch_experiments, load_config
from src.visualization import plot_all_results

# 3. Add project to path
project_path = "/kaggle/working/real-time-scheduling-project"
sys.path.append(project_path)

# 4. Configure environment
os.environ['KAGGLE_CONFIG_DIR'] = '/kaggle/working'
os.makedirs('/kaggle/working/results', exist_ok=True)

# 5. Load experiment configurations
config_path = f"{project_path}/configs/experiments.yaml"
configs = load_config(config_path)

# 6. Run experiments
results = run_batch_experiments(
    configs, 
    batch_size=20,
    output_dir='/kaggle/working/results'
)

# 7. Save and visualize results
results_df = pd.DataFrame(results)
results_df.to_csv('/kaggle/working/results/final_results.csv', index=False)

# 8. Generate plots
plot_all_results(results_df, output_dir='/kaggle/working/results')

# 9. Prepare download
!zip -r /kaggle/working/results.zip /kaggle/working/results

# 10. Download button
from IPython.display import FileLink
FileLink('/kaggle/working/results.zip')
